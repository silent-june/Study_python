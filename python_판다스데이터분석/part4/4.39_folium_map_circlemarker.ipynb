{
 "metadata": {
  "language_info": {
   "codemirror_mode": {
    "name": "ipython",
    "version": 3
   },
   "file_extension": ".py",
   "mimetype": "text/x-python",
   "name": "python",
   "nbconvert_exporter": "python",
   "pygments_lexer": "ipython3",
   "version": "3.8.5"
  },
  "orig_nbformat": 2,
  "kernelspec": {
   "name": "pybook",
   "display_name": "pybook",
   "language": "python"
  }
 },
 "nbformat": 4,
 "nbformat_minor": 2,
 "cells": [
  {
   "cell_type": "code",
   "execution_count": 1,
   "metadata": {},
   "outputs": [],
   "source": [
    "# -*- coding: utf-8 -*-\n",
    "\n",
    "# 라이브러리 불러오기\n",
    "import pandas as pd\n",
    "import folium\n",
    "\n",
    "# 대학교 리스트를 데이터프레임 변환\n",
    "df = pd.read_excel('./서울지역 대학교 위치.xlsx')\n",
    "\n",
    "# 서울 지도 만들기\n",
    "seoul_map = folium.Map(location=[37.55,126.98], tiles='Stamen Terrain', \n",
    "                        zoom_start=12)\n",
    "\n",
    "# 대학교 위치 정보를 CircleMarker로 표시\n",
    "for name, lat, lng in zip(df.index, df.위도, df.경도):\n",
    "    folium.CircleMarker([lat, lng],\n",
    "                        radius=10,\n",
    "                        color='brown',\n",
    "                        fill=True,\n",
    "                        fill_color='coral',\n",
    "                        fill_opacity=0.7,\n",
    "                        popup=name\n",
    "                        ).add_to(seoul_map)\n",
    "\n",
    "# 지도를 html 파일로 저장하기\n",
    "seoul_map.save('./seoul_colleges2.html')"
   ]
  },
  {
   "cell_type": "code",
   "execution_count": null,
   "metadata": {},
   "outputs": [],
   "source": []
  }
 ]
}