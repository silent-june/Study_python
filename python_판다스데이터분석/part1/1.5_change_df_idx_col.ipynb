{
 "metadata": {
  "language_info": {
   "codemirror_mode": {
    "name": "ipython",
    "version": 3
   },
   "file_extension": ".py",
   "mimetype": "text/x-python",
   "name": "python",
   "nbconvert_exporter": "python",
   "pygments_lexer": "ipython3",
   "version": "3.8.5-final"
  },
  "orig_nbformat": 2,
  "kernelspec": {
   "name": "pybook",
   "display_name": "pybook",
   "language": "python"
  }
 },
 "nbformat": 4,
 "nbformat_minor": 2,
 "cells": [
  {
   "cell_type": "code",
   "execution_count": 1,
   "metadata": {},
   "outputs": [
    {
     "output_type": "stream",
     "name": "stdout",
     "text": [
      "    나이 성별   학교\n준서  15  남  덕영중\n예은  17  여  수리중\n\n\nIndex(['준서', '예은'], dtype='object')\n\n\nIndex(['나이', '성별', '학교'], dtype='object')\n"
     ]
    }
   ],
   "source": [
    "# -*- coding: utf-8 -*-\n",
    "\n",
    "import pandas as pd \n",
    "\n",
    "# 행 인덱스/열 이름 지정하여 데이터프레임 만들기\n",
    "df = pd.DataFrame([[15, '남', '덕영중'], [17, '여', '수리중']],\n",
    "                    index= ['준서', '예은'], # 추가하고자 하는 리스트의 개수\n",
    "                    columns= ['나이', '성별', '학교']) # 추가되는 리스트 내부의 원소 개수\n",
    "\n",
    "# 행 인덱스, 열 이름 확인하기\n",
    "print(df)               # 데이터프레임\n",
    "print('\\n')\n",
    "print(df.index)         # 행 인덱스\n",
    "print('\\n')\n",
    "print(df.columns)       # 열 이름"
   ]
  },
  {
   "cell_type": "code",
   "execution_count": 2,
   "metadata": {},
   "outputs": [
    {
     "output_type": "stream",
     "name": "stdout",
     "text": [
      "     연령 남녀   소속\n학생1  15  남  덕영중\n학생2  17  여  수리중\n\n\nIndex(['학생1', '학생2'], dtype='object')\n\n\nIndex(['연령', '남녀', '소속'], dtype='object')\n"
     ]
    }
   ],
   "source": [
    "# 행 인덱스, 열 이름 변경하기\n",
    "df.index=['학생1', '학생2']\n",
    "df.columns=['연령', '남녀', '소속']\n",
    "\n",
    "print(df)               # 데이터프레임\n",
    "print('\\n')\n",
    "print(df.index)         # 행 인덱스\n",
    "print('\\n')\n",
    "print(df.columns)       # 열 이름"
   ]
  },
  {
   "cell_type": "code",
   "execution_count": null,
   "metadata": {},
   "outputs": [],
   "source": []
  }
 ]
}