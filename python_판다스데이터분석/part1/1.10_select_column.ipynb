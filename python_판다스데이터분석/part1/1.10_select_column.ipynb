{
 "metadata": {
  "language_info": {
   "codemirror_mode": {
    "name": "ipython",
    "version": 3
   },
   "file_extension": ".py",
   "mimetype": "text/x-python",
   "name": "python",
   "nbconvert_exporter": "python",
   "pygments_lexer": "ipython3",
   "version": "3.8.5-final"
  },
  "orig_nbformat": 2,
  "kernelspec": {
   "name": "pybook",
   "display_name": "pybook",
   "language": "python"
  }
 },
 "nbformat": 4,
 "nbformat_minor": 2,
 "cells": [
  {
   "cell_type": "code",
   "execution_count": 1,
   "metadata": {},
   "outputs": [
    {
     "output_type": "stream",
     "name": "stdout",
     "text": [
      "   이름  수학  영어   음악   체육\n0  서준  90  98   85  100\n1  우현  80  89   95   90\n2  인아  70  95  100   90\n<class 'pandas.core.frame.DataFrame'>\n"
     ]
    }
   ],
   "source": [
    "# -*- coding: utf-8 -*-\n",
    "\n",
    "import pandas as pd \n",
    "\n",
    "# DataFrame() 함수로 데이터프레임 변환, 변수 df에 저장\n",
    "exam_data = {'이름' : ['서준', '우현', '인아'], '수학' : [90, 80, 70], '영어' : [98, 89, 95], '음악' : [85, 95, 100], '체육' : [100, 90, 90]}\n",
    "\n",
    "df = pd.DataFrame(exam_data)\n",
    "print(df)\n",
    "print(type(df))"
   ]
  },
  {
   "cell_type": "code",
   "execution_count": 2,
   "metadata": {},
   "outputs": [
    {
     "output_type": "stream",
     "name": "stdout",
     "text": [
      "0    90\n1    80\n2    70\nName: 수학, dtype: int64\n<class 'pandas.core.series.Series'>\n"
     ]
    }
   ],
   "source": [
    "# '수학' 점수 데이터만 선택, 변수 math1에 저장\n",
    "math1 = df['수학']\n",
    "print(math1)\n",
    "print(type(math1))"
   ]
  },
  {
   "cell_type": "code",
   "execution_count": 3,
   "metadata": {},
   "outputs": [
    {
     "output_type": "stream",
     "name": "stdout",
     "text": [
      "0    98\n1    89\n2    95\nName: 영어, dtype: int64\n<class 'pandas.core.series.Series'>\n"
     ]
    }
   ],
   "source": [
    "# '영어' 점수 데이터만 선택. 변수 english에 저장\n",
    "english = df.영어\n",
    "print(english)\n",
    "print(type(english))"
   ]
  },
  {
   "cell_type": "code",
   "execution_count": 4,
   "metadata": {},
   "outputs": [
    {
     "output_type": "stream",
     "name": "stdout",
     "text": [
      "    음악   체육\n",
      "0   85  100\n",
      "1   95   90\n",
      "2  100   90\n",
      "<class 'pandas.core.frame.DataFrame'>\n"
     ]
    }
   ],
   "source": [
    "# '음악', '체육' 점수 데이터를 선택. 변수 music_gym에 저장\n",
    "music_gym = df[['음악', '체육']]\n",
    "print(music_gym)\n",
    "print(type(music_gym))"
   ]
  },
  {
   "cell_type": "code",
   "execution_count": 5,
   "metadata": {},
   "outputs": [
    {
     "output_type": "stream",
     "name": "stdout",
     "text": [
      "   수학\n0  90\n1  80\n2  70\n<class 'pandas.core.frame.DataFrame'>\n"
     ]
    }
   ],
   "source": [
    "# '수학' 점수 데이터만 선택. 변수 math2에 저장\n",
    "math2 = df[['수학']] # 이중 대괄호를 사용하면 여 이름 1개를 원소로 갖는 리스트를 사용하는 경우에도 시리즈가 아닌 데이터프레임을 반환함\n",
    "print(math2)\n",
    "print(type(math2))"
   ]
  },
  {
   "cell_type": "code",
   "execution_count": null,
   "metadata": {},
   "outputs": [],
   "source": []
  }
 ]
}