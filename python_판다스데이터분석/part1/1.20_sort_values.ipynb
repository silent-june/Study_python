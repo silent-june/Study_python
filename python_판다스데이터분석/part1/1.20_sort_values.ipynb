{
 "metadata": {
  "language_info": {
   "codemirror_mode": {
    "name": "ipython",
    "version": 3
   },
   "file_extension": ".py",
   "mimetype": "text/x-python",
   "name": "python",
   "nbconvert_exporter": "python",
   "pygments_lexer": "ipython3",
   "version": "3.8.5-final"
  },
  "orig_nbformat": 2,
  "kernelspec": {
   "name": "pybook",
   "display_name": "pybook",
   "language": "python"
  }
 },
 "nbformat": 4,
 "nbformat_minor": 2,
 "cells": [
  {
   "cell_type": "code",
   "execution_count": 1,
   "metadata": {},
   "outputs": [],
   "source": [
    "# -*- coding: utf-8 -*-\n",
    "\n",
    "import pandas as pd \n",
    "\n",
    "# 딕셔너리 정의\n",
    "dict_data = {'c0' : [1, 2, 3],\n",
    "'c1' : [4, 5, 6],\n",
    "'c2' : [7, 8, 9],\n",
    "'c3' : [10, 11, 12],\n",
    "'c4' : [13, 14, 15]}"
   ]
  },
  {
   "cell_type": "code",
   "execution_count": 2,
   "metadata": {},
   "outputs": [
    {
     "output_type": "stream",
     "name": "stdout",
     "text": [
      "    c0  c1  c2  c3  c4\nr0   1   4   7  10  13\nr1   2   5   8  11  14\nr2   3   6   9  12  15\n"
     ]
    }
   ],
   "source": [
    "# 딕셔너리를 데이터프레임으로 변환. 인덱스를 [r0, r1, r2]로 지정\n",
    "df = pd.DataFrame(dict_data, index=['r0', 'r1', 'r2'])\n",
    "print(df)"
   ]
  },
  {
   "cell_type": "code",
   "execution_count": 3,
   "metadata": {},
   "outputs": [
    {
     "output_type": "stream",
     "name": "stdout",
     "text": [
      "    c0  c1  c2  c3  c4\nr2   3   6   9  12  15\nr1   2   5   8  11  14\nr0   1   4   7  10  13\n"
     ]
    }
   ],
   "source": [
    "# c1 열을 기준으로 내림차순 정렬\n",
    "ndf = df.sort_values(by='c1', ascending=False)\n",
    "print(ndf)"
   ]
  },
  {
   "cell_type": "code",
   "execution_count": null,
   "metadata": {},
   "outputs": [],
   "source": []
  }
 ]
}