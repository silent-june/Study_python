{
 "metadata": {
  "language_info": {
   "codemirror_mode": {
    "name": "ipython",
    "version": 3
   },
   "file_extension": ".py",
   "mimetype": "text/x-python",
   "name": "python",
   "nbconvert_exporter": "python",
   "pygments_lexer": "ipython3",
   "version": "3.8.5-final"
  },
  "orig_nbformat": 2,
  "kernelspec": {
   "name": "pybook",
   "display_name": "pybook",
   "language": "python"
  }
 },
 "nbformat": 4,
 "nbformat_minor": 2,
 "cells": [
  {
   "cell_type": "code",
   "execution_count": 1,
   "metadata": {},
   "outputs": [
    {
     "output_type": "stream",
     "name": "stdout",
     "text": [
      "국어     NaN\n영어    80.0\n수학    90.0\ndtype: float64\n\n\n수학    80\n국어    90\ndtype: int64\n"
     ]
    }
   ],
   "source": [
    "# -*- coding: utf-8 -*-\n",
    "\n",
    "# 라이브러리 불러오기\n",
    "import pandas as pd \n",
    "import numpy as np \n",
    "\n",
    "# 딕셔너리 데이터로 판다스 시리즈 만들기\n",
    "student1 = pd.Series({'국어':np.nan, '영어':80, '수학':90})\n",
    "student2 = pd.Series({'수학':80, '국어':90})\n",
    "\n",
    "print(student1)\n",
    "print('\\n')\n",
    "print(student2)"
   ]
  },
  {
   "cell_type": "code",
   "execution_count": 4,
   "metadata": {},
   "outputs": [
    {
     "output_type": "stream",
     "name": "stdout",
     "text": [
      "<class 'pandas.core.series.Series'>\n"
     ]
    }
   ],
   "source": [
    "# 두 학생의 과목별 점수로 사칙연산 수행(시리즈 vs 시리즈)\n",
    "addition = student1 + student2\n",
    "subtraction = student1 - student2\n",
    "multiplication = student1 * student2\n",
    "division = student1 / student2\n",
    "print(type(division))"
   ]
  },
  {
   "cell_type": "code",
   "execution_count": 5,
   "metadata": {},
   "outputs": [
    {
     "output_type": "stream",
     "name": "stdout",
     "text": [
      "     국어        수학  영어\n덧셈  NaN   170.000 NaN\n뺄셈  NaN    10.000 NaN\n곱셈  NaN  7200.000 NaN\n나눗셈 NaN     1.125 NaN\n"
     ]
    }
   ],
   "source": [
    "# 사칙연산 결과를 데이터프레임으로 합치기 (시리즈 -> 데이터프레임)\n",
    "result = pd.DataFrame([addition, subtraction, multiplication, division], index=['덧셈', '뺄셈', '곱셈', '나눗셈'])\n",
    "print(result)"
   ]
  },
  {
   "cell_type": "code",
   "execution_count": null,
   "metadata": {},
   "outputs": [],
   "source": []
  }
 ]
}