{
 "metadata": {
  "language_info": {
   "codemirror_mode": {
    "name": "ipython",
    "version": 3
   },
   "file_extension": ".py",
   "mimetype": "text/x-python",
   "name": "python",
   "nbconvert_exporter": "python",
   "pygments_lexer": "ipython3",
   "version": "3.8.5-final"
  },
  "orig_nbformat": 2,
  "kernelspec": {
   "name": "pybook",
   "display_name": "pybook",
   "language": "python"
  }
 },
 "nbformat": 4,
 "nbformat_minor": 2,
 "cells": [
  {
   "cell_type": "code",
   "execution_count": 1,
   "metadata": {},
   "outputs": [],
   "source": [
    "# -*- coding: utf-8 -*-\n",
    "\n",
    "import pandas as pd \n",
    "\n",
    "# 딕셔너리 정의\n",
    "dict_data = {'c0' : [1, 2, 3],\n",
    "'c1' : [4, 5, 6],\n",
    "'c2' : [7, 8, 9],\n",
    "'c3' : [10, 11, 12],\n",
    "'c4' : [13, 14, 15]}"
   ]
  },
  {
   "cell_type": "code",
   "execution_count": 3,
   "metadata": {},
   "outputs": [
    {
     "output_type": "stream",
     "name": "stdout",
     "text": [
      "    c0  c1  c2  c3  c4\nr0   1   4   7  10  13\nr1   2   5   8  11  14\nr2   3   6   9  12  15\n"
     ]
    }
   ],
   "source": [
    "# 딕셔너리를 데이터프레임으로 변환. 인덱스를 [r0, r1, r2로 지정]\n",
    "df = pd.DataFrame(dict_data, index=['r0', 'r1', 'r2'])\n",
    "print(df)"
   ]
  },
  {
   "cell_type": "code",
   "execution_count": 4,
   "metadata": {},
   "outputs": [
    {
     "output_type": "stream",
     "name": "stdout",
     "text": [
      "     c0   c1   c2    c3    c4\nr0  1.0  4.0  7.0  10.0  13.0\nr1  2.0  5.0  8.0  11.0  14.0\nr2  3.0  6.0  9.0  12.0  15.0\nr3  NaN  NaN  NaN   NaN   NaN\nr4  NaN  NaN  NaN   NaN   NaN\n"
     ]
    }
   ],
   "source": [
    "# 인덱스를 [r0, r1, r2, r3, r4]로 재지정\n",
    "new_index = ['r0', 'r1', 'r2', 'r3', 'r4']\n",
    "ndf = df.reindex(new_index) # NaN값이 존재하면 왜 나머지 값들도 float로 바뀌는가??, --> 아마도 NaN이 float값으로 간주되기 때문! float이 하나라도 있으면 나머지도 전부 float으로 표기되니까!\n",
    "print(ndf)"
   ]
  },
  {
   "cell_type": "code",
   "execution_count": 5,
   "metadata": {},
   "outputs": [
    {
     "output_type": "stream",
     "name": "stdout",
     "text": [
      "    c0  c1  c2  c3  c4\nr0   1   4   7  10  13\nr1   2   5   8  11  14\nr2   3   6   9  12  15\nr3   0   0   0   0   0\nr4   0   0   0   0   0\n"
     ]
    }
   ],
   "source": [
    "# reindex로 발생한 NaN 값을 숫자 0으로 채우기\n",
    "new_index = ['r0', 'r1', 'r2', 'r3', 'r4']\n",
    "ndf2 = df.reindex(new_index, fill_value=0)\n",
    "print(ndf2)"
   ]
  },
  {
   "cell_type": "code",
   "execution_count": null,
   "metadata": {},
   "outputs": [],
   "source": []
  }
 ]
}