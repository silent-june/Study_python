{
 "metadata": {
  "language_info": {
   "codemirror_mode": {
    "name": "ipython",
    "version": 3
   },
   "file_extension": ".py",
   "mimetype": "text/x-python",
   "name": "python",
   "nbconvert_exporter": "python",
   "pygments_lexer": "ipython3",
   "version": "3.8.5-final"
  },
  "orig_nbformat": 2,
  "kernelspec": {
   "name": "pybook",
   "display_name": "pybook",
   "language": "python"
  }
 },
 "nbformat": 4,
 "nbformat_minor": 2,
 "cells": [
  {
   "cell_type": "code",
   "execution_count": 1,
   "metadata": {},
   "outputs": [
    {
     "output_type": "stream",
     "name": "stdout",
     "text": [
      "   이름  수학  영어   음악   체육\n0  서준  90  98   85  100\n1  우현  80  89   95   90\n2  인아  70  95  100   90\n"
     ]
    }
   ],
   "source": [
    "# -*- coding: utf-8 -*-\n",
    "\n",
    "import pandas as pd \n",
    "\n",
    "# DataFrame() 함수로 데이터프레임 변환, 변수 df에 저장\n",
    "exam_data = {'이름' : ['서준', '우현', '인아'], '수학' : [90, 80, 70], '영어' : [98, 89, 95], '음악' : [85, 95, 100], '체육' : [100, 90, 90]}\n",
    "\n",
    "df = pd.DataFrame(exam_data)\n",
    "print(df)"
   ]
  },
  {
   "cell_type": "code",
   "execution_count": 2,
   "metadata": {},
   "outputs": [
    {
     "output_type": "stream",
     "name": "stdout",
     "text": [
      "      0   1    2\n이름   서준  우현   인아\n수학   90  80   70\n영어   98  89   95\n음악   85  95  100\n체육  100  90   90\n"
     ]
    }
   ],
   "source": [
    "# 데이터프레임 df를 transpose하기 (메소드 활용)\n",
    "df = df.transpose()\n",
    "print(df)"
   ]
  },
  {
   "cell_type": "code",
   "execution_count": 3,
   "metadata": {},
   "outputs": [
    {
     "output_type": "stream",
     "name": "stdout",
     "text": [
      "   이름  수학  영어   음악   체육\n0  서준  90  98   85  100\n1  우현  80  89   95   90\n2  인아  70  95  100   90\n"
     ]
    }
   ],
   "source": [
    "# 데이터프레임 df를 다시 전치하기(클래스 속성 활용)\n",
    "df = df.T\n",
    "print(df)"
   ]
  },
  {
   "cell_type": "code",
   "execution_count": null,
   "metadata": {},
   "outputs": [],
   "source": []
  }
 ]
}