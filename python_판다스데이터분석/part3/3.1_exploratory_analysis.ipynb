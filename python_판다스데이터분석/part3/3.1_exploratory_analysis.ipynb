{
 "metadata": {
  "language_info": {
   "codemirror_mode": {
    "name": "ipython",
    "version": 3
   },
   "file_extension": ".py",
   "mimetype": "text/x-python",
   "name": "python",
   "nbconvert_exporter": "python",
   "pygments_lexer": "ipython3",
   "version": "3.8.5-final"
  },
  "orig_nbformat": 2,
  "kernelspec": {
   "name": "pybook",
   "display_name": "pybook",
   "language": "python"
  }
 },
 "nbformat": 4,
 "nbformat_minor": 2,
 "cells": [
  {
   "cell_type": "code",
   "execution_count": 1,
   "metadata": {},
   "outputs": [
    {
     "output_type": "stream",
     "name": "stdout",
     "text": [
      "    mpg  cylinders  displacement horsepower  weight  acceleration  model year  \\\n0  18.0          8         307.0      130.0  3504.0          12.0          70   \n1  15.0          8         350.0      165.0  3693.0          11.5          70   \n2  18.0          8         318.0      150.0  3436.0          11.0          70   \n3  16.0          8         304.0      150.0  3433.0          12.0          70   \n4  17.0          8         302.0      140.0  3449.0          10.5          70   \n\n   origin                       name  \n0       1  chevrolet chevelle malibu  \n1       1          buick skylark 320  \n2       1         plymouth satellite  \n3       1              amc rebel sst  \n4       1                ford torino  \n\n\n      mpg  cylinders  displacement horsepower  weight  acceleration  \\\n393  27.0          4         140.0       86.0  2790.0          15.6   \n394  44.0          4          97.0       52.0  2130.0          24.6   \n395  32.0          4         135.0       84.0  2295.0          11.6   \n396  28.0          4         120.0       79.0  2625.0          18.6   \n397  31.0          4         119.0       82.0  2720.0          19.4   \n\n     model year  origin             name  \n393          82       1  ford mustang gl  \n394          82       2        vw pickup  \n395          82       1    dodge rampage  \n396          82       1      ford ranger  \n397          82       1       chevy s-10  \n"
     ]
    }
   ],
   "source": [
    "# -*- coding_ utf-8 -*-\n",
    "\n",
    "import pandas as pd \n",
    "\n",
    "# read_csv() 함수로 df 생성\n",
    "df = pd.read_csv('./auto-mpg.csv', header=None)\n",
    "\n",
    "# 열 이름 지정\n",
    "df.columns = ['mpg', 'cylinders', 'displacement', 'horsepower', 'weight', 'acceleration', 'model year', 'origin', 'name']\n",
    "\n",
    "# 데이터프레임 df의 내용을 일부 확인\n",
    "print(df.head())\n",
    "print('\\n')\n",
    "print(df.tail())"
   ]
  },
  {
   "cell_type": "code",
   "execution_count": 2,
   "metadata": {},
   "outputs": [
    {
     "output_type": "stream",
     "name": "stdout",
     "text": [
      "(398, 9)\n"
     ]
    }
   ],
   "source": [
    "# df의 모양과 크기 확인: (행의 개수, 열의 개수)를 투플로 변환\n",
    "print(df.shape)"
   ]
  },
  {
   "cell_type": "code",
   "execution_count": 3,
   "metadata": {},
   "outputs": [
    {
     "output_type": "stream",
     "name": "stdout",
     "text": [
      "<class 'pandas.core.frame.DataFrame'>\nRangeIndex: 398 entries, 0 to 397\nData columns (total 9 columns):\n #   Column        Non-Null Count  Dtype  \n---  ------        --------------  -----  \n 0   mpg           398 non-null    float64\n 1   cylinders     398 non-null    int64  \n 2   displacement  398 non-null    float64\n 3   horsepower    398 non-null    object \n 4   weight        398 non-null    float64\n 5   acceleration  398 non-null    float64\n 6   model year    398 non-null    int64  \n 7   origin        398 non-null    int64  \n 8   name          398 non-null    object \ndtypes: float64(4), int64(3), object(2)\nmemory usage: 28.1+ KB\nNone\n"
     ]
    }
   ],
   "source": [
    "# 데이터프레임 df의 내용 확인\n",
    "print(df.info())"
   ]
  },
  {
   "cell_type": "code",
   "execution_count": 4,
   "metadata": {},
   "outputs": [
    {
     "output_type": "stream",
     "name": "stdout",
     "text": [
      "mpg             float64\ncylinders         int64\ndisplacement    float64\nhorsepower       object\nweight          float64\nacceleration    float64\nmodel year        int64\norigin            int64\nname             object\ndtype: object\n"
     ]
    }
   ],
   "source": [
    "# 데이터프레임 df의 자료형확인\n",
    "print(df.dtypes)"
   ]
  },
  {
   "cell_type": "code",
   "execution_count": 5,
   "metadata": {},
   "outputs": [
    {
     "output_type": "stream",
     "name": "stdout",
     "text": [
      "float64\n"
     ]
    }
   ],
   "source": [
    "# 시리즈 (mpg 열)의 자료형 확인\n",
    "print(df.mpg.dtypes)"
   ]
  },
  {
   "cell_type": "code",
   "execution_count": 7,
   "metadata": {},
   "outputs": [
    {
     "output_type": "stream",
     "name": "stdout",
     "text": [
      "              mpg   cylinders  displacement       weight  acceleration  \\\ncount  398.000000  398.000000    398.000000   398.000000    398.000000   \nmean    23.514573    5.454774    193.425879  2970.424623     15.568090   \nstd      7.815984    1.701004    104.269838   846.841774      2.757689   \nmin      9.000000    3.000000     68.000000  1613.000000      8.000000   \n25%     17.500000    4.000000    104.250000  2223.750000     13.825000   \n50%     23.000000    4.000000    148.500000  2803.500000     15.500000   \n75%     29.000000    8.000000    262.000000  3608.000000     17.175000   \nmax     46.600000    8.000000    455.000000  5140.000000     24.800000   \n\n       model year      origin  \ncount  398.000000  398.000000  \nmean    76.010050    1.572864  \nstd      3.697627    0.802055  \nmin     70.000000    1.000000  \n25%     73.000000    1.000000  \n50%     76.000000    1.000000  \n75%     79.000000    2.000000  \nmax     82.000000    3.000000  \n\n\n               mpg   cylinders  displacement horsepower       weight  \\\ncount   398.000000  398.000000    398.000000        398   398.000000   \nunique         NaN         NaN           NaN         94          NaN   \ntop            NaN         NaN           NaN      150.0          NaN   \nfreq           NaN         NaN           NaN         22          NaN   \nmean     23.514573    5.454774    193.425879        NaN  2970.424623   \nstd       7.815984    1.701004    104.269838        NaN   846.841774   \nmin       9.000000    3.000000     68.000000        NaN  1613.000000   \n25%      17.500000    4.000000    104.250000        NaN  2223.750000   \n50%      23.000000    4.000000    148.500000        NaN  2803.500000   \n75%      29.000000    8.000000    262.000000        NaN  3608.000000   \nmax      46.600000    8.000000    455.000000        NaN  5140.000000   \n\n        acceleration  model year      origin        name  \ncount     398.000000  398.000000  398.000000         398  \nunique           NaN         NaN         NaN         305  \ntop              NaN         NaN         NaN  ford pinto  \nfreq             NaN         NaN         NaN           6  \nmean       15.568090   76.010050    1.572864         NaN  \nstd         2.757689    3.697627    0.802055         NaN  \nmin         8.000000   70.000000    1.000000         NaN  \n25%        13.825000   73.000000    1.000000         NaN  \n50%        15.500000   76.000000    1.000000         NaN  \n75%        17.175000   79.000000    2.000000         NaN  \nmax        24.800000   82.000000    3.000000         NaN  \n"
     ]
    }
   ],
   "source": [
    "# 데이터프레임 df의 기술 통계 정보 확인\n",
    "print(df.describe())\n",
    "print('\\n')\n",
    "print(df.describe(include='all'))"
   ]
  },
  {
   "cell_type": "code",
   "execution_count": null,
   "metadata": {},
   "outputs": [],
   "source": []
  }
 ]
}