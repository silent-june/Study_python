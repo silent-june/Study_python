{
 "metadata": {
  "language_info": {
   "codemirror_mode": {
    "name": "ipython",
    "version": 3
   },
   "file_extension": ".py",
   "mimetype": "text/x-python",
   "name": "python",
   "nbconvert_exporter": "python",
   "pygments_lexer": "ipython3",
   "version": "3.8.5-final"
  },
  "orig_nbformat": 2,
  "kernelspec": {
   "name": "pybook",
   "display_name": "pybook",
   "language": "python"
  }
 },
 "nbformat": 4,
 "nbformat_minor": 2,
 "cells": [
  {
   "cell_type": "code",
   "execution_count": 1,
   "metadata": {},
   "outputs": [
    {
     "output_type": "stream",
     "name": "stdout",
     "text": [
      "mpg               23.514573\ncylinders          5.454774\ndisplacement     193.425879\nweight          2970.424623\nacceleration      15.568090\nmodel year        76.010050\norigin             1.572864\ndtype: float64\n"
     ]
    }
   ],
   "source": [
    "# -*- coding_ utf-8 -*-\n",
    "\n",
    "import pandas as pd \n",
    "\n",
    "# read_csv() 함수로 df 생성\n",
    "df = pd.read_csv('./auto-mpg.csv', header=None)\n",
    "\n",
    "# 열 이름 지정\n",
    "df.columns = ['mpg', 'cylinders', 'displacement', 'horsepower', 'weight', 'acceleration', 'model year', 'origin', 'name']\n",
    "\n",
    "# 평균값\n",
    "print(df.mean())"
   ]
  },
  {
   "cell_type": "code",
   "execution_count": 3,
   "metadata": {},
   "outputs": [
    {
     "output_type": "stream",
     "name": "stdout",
     "text": [
      "23.514572864321607\n"
     ]
    }
   ],
   "source": [
    "print(df['mpg'].mean())"
   ]
  },
  {
   "cell_type": "code",
   "execution_count": 4,
   "metadata": {},
   "outputs": [
    {
     "output_type": "stream",
     "name": "stdout",
     "text": [
      "23.514572864321607\n"
     ]
    }
   ],
   "source": [
    "print(df.mpg.mean()) # 위의 값과 차이점이 없네!"
   ]
  },
  {
   "cell_type": "code",
   "execution_count": 5,
   "metadata": {},
   "outputs": [
    {
     "output_type": "stream",
     "name": "stdout",
     "text": [
      "mpg         23.514573\nweight    2970.424623\ndtype: float64\n"
     ]
    }
   ],
   "source": [
    "print(df[['mpg', 'weight']].mean())"
   ]
  },
  {
   "cell_type": "code",
   "execution_count": 6,
   "metadata": {},
   "outputs": [
    {
     "output_type": "stream",
     "name": "stdout",
     "text": [
      "mpg               23.0\ncylinders          4.0\ndisplacement     148.5\nweight          2803.5\nacceleration      15.5\nmodel year        76.0\norigin             1.0\ndtype: float64\n\n\n23.0\n"
     ]
    }
   ],
   "source": [
    "# 중간값\n",
    "print(df.median())\n",
    "print('\\n')\n",
    "print(df['mpg'].median())"
   ]
  },
  {
   "cell_type": "code",
   "execution_count": 7,
   "metadata": {},
   "outputs": [
    {
     "output_type": "stream",
     "name": "stdout",
     "text": [
      "mpg                         46.6\ncylinders                      8\ndisplacement               455.0\nhorsepower                     ?\nweight                    5140.0\nacceleration                24.8\nmodel year                    82\norigin                         3\nname            vw rabbit custom\ndtype: object\n\n\n46.6\n"
     ]
    }
   ],
   "source": [
    "# 최대값\n",
    "print(df.max())\n",
    "print('\\n')\n",
    "print(df['mpg'].max())"
   ]
  },
  {
   "cell_type": "code",
   "execution_count": 8,
   "metadata": {},
   "outputs": [
    {
     "output_type": "stream",
     "name": "stdout",
     "text": [
      "mpg                             9.00000\ncylinders                             3\ndisplacement                   68.00000\nhorsepower                        100.0\nweight                       1613.00000\nacceleration                    8.00000\nmodel year                           70\norigin                                1\nname            amc ambassador brougham\ndtype: object\n\n\n9.0\n"
     ]
    }
   ],
   "source": [
    "# 최소값\n",
    "print(df.min())\n",
    "print('\\n')\n",
    "print(df['mpg'].min())"
   ]
  },
  {
   "cell_type": "code",
   "execution_count": 10,
   "metadata": {},
   "outputs": [
    {
     "output_type": "stream",
     "name": "stdout",
     "text": [
      "mpg               7.815984\ncylinders         1.701004\ndisplacement    104.269838\nweight          846.841774\nacceleration      2.757689\nmodel year        3.697627\norigin            0.802055\ndtype: float64\n\n\n7.815984312565782\n"
     ]
    }
   ],
   "source": [
    "# 표준편차\n",
    "print(df.std())\n",
    "print('\\n')\n",
    "print(df['mpg'].std())"
   ]
  },
  {
   "cell_type": "code",
   "execution_count": 12,
   "metadata": {},
   "outputs": [
    {
     "output_type": "stream",
     "name": "stdout",
     "text": [
      "                   mpg  cylinders  displacement    weight  acceleration  \\\nmpg           1.000000  -0.775396     -0.804203 -0.831741      0.420289   \ncylinders    -0.775396   1.000000      0.950721  0.896017     -0.505419   \ndisplacement -0.804203   0.950721      1.000000  0.932824     -0.543684   \nweight       -0.831741   0.896017      0.932824  1.000000     -0.417457   \nacceleration  0.420289  -0.505419     -0.543684 -0.417457      1.000000   \nmodel year    0.579267  -0.348746     -0.370164 -0.306564      0.288137   \norigin        0.563450  -0.562543     -0.609409 -0.581024      0.205873   \n\n              model year    origin  \nmpg             0.579267  0.563450  \ncylinders      -0.348746 -0.562543  \ndisplacement   -0.370164 -0.609409  \nweight         -0.306564 -0.581024  \nacceleration    0.288137  0.205873  \nmodel year      1.000000  0.180662  \norigin          0.180662  1.000000  \n\n\n             mpg    weight\nmpg     1.000000 -0.831741\nweight -0.831741  1.000000\n"
     ]
    }
   ],
   "source": [
    "# 상관계수\n",
    "print(df.corr())\n",
    "print('\\n')\n",
    "print(df[['mpg', 'weight']].corr())"
   ]
  },
  {
   "cell_type": "code",
   "execution_count": null,
   "metadata": {},
   "outputs": [],
   "source": []
  }
 ]
}